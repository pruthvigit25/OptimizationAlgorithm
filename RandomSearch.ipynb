{
 "nbformat": 4,
 "nbformat_minor": 0,
 "metadata": {
  "colab": {
   "provenance": []
  },
  "kernelspec": {
   "name": "python3",
   "display_name": "Python 3"
  },
  "language_info": {
   "name": "python"
  },
  "gpuClass": "standard",
  "accelerator": "GPU"
 },
 "cells": [
  {
   "cell_type": "code",
   "source": [
    "from google.colab import drive\n",
    "drive.mount('/content/drive')"
   ],
   "metadata": {
    "id": "dup4qDV1Bzqx",
    "colab": {
     "base_uri": "https://localhost:8080/"
    },
    "executionInfo": {
     "status": "ok",
     "timestamp": 1682218122767,
     "user_tz": -300,
     "elapsed": 686566,
     "user": {
      "displayName": "Marilyn Fox",
      "userId": "07191779669483983856"
     }
    },
    "outputId": "6c578b3d-b1f7-4364-dcfa-704a3516445c"
   },
   "execution_count": 1,
   "outputs": [
    {
     "output_type": "stream",
     "name": "stdout",
     "text": [
      "Mounted at /content/drive\n"
     ]
    }
   ]
  },
  {
   "cell_type": "code",
   "source": [
    "!pip install keras-tuner"
   ],
   "metadata": {
    "id": "lBq_8zR4ct8a",
    "colab": {
     "base_uri": "https://localhost:8080/"
    },
    "executionInfo": {
     "status": "ok",
     "timestamp": 1682218127905,
     "user_tz": -300,
     "elapsed": 5153,
     "user": {
      "displayName": "Marilyn Fox",
      "userId": "07191779669483983856"
     }
    },
    "outputId": "9bf341a0-2eee-41e2-ca48-86f95f0d1ef9"
   },
   "execution_count": 2,
   "outputs": [
    {
     "output_type": "stream",
     "name": "stdout",
     "text": [
      "Looking in indexes: https://pypi.org/simple, https://us-python.pkg.dev/colab-wheels/public/simple/\n",
      "Collecting keras-tuner\n",
      "  Downloading keras_tuner-1.3.5-py3-none-any.whl (176 kB)\n",
      "\u001B[2K     \u001B[90m━━━━━━━━━━━━━━━━━━━━━━━━━━━━━━━━━━━━━━\u001B[0m \u001B[32m176.1/176.1 kB\u001B[0m \u001B[31m11.7 MB/s\u001B[0m eta \u001B[36m0:00:00\u001B[0m\n",
      "\u001B[?25hRequirement already satisfied: requests in /usr/local/lib/python3.9/dist-packages (from keras-tuner) (2.27.1)\n",
      "Requirement already satisfied: packaging in /usr/local/lib/python3.9/dist-packages (from keras-tuner) (23.1)\n",
      "Collecting kt-legacy\n",
      "  Downloading kt_legacy-1.0.5-py3-none-any.whl (9.6 kB)\n",
      "Requirement already satisfied: certifi>=2017.4.17 in /usr/local/lib/python3.9/dist-packages (from requests->keras-tuner) (2022.12.7)\n",
      "Requirement already satisfied: urllib3<1.27,>=1.21.1 in /usr/local/lib/python3.9/dist-packages (from requests->keras-tuner) (1.26.15)\n",
      "Requirement already satisfied: charset-normalizer~=2.0.0 in /usr/local/lib/python3.9/dist-packages (from requests->keras-tuner) (2.0.12)\n",
      "Requirement already satisfied: idna<4,>=2.5 in /usr/local/lib/python3.9/dist-packages (from requests->keras-tuner) (3.4)\n",
      "Installing collected packages: kt-legacy, keras-tuner\n",
      "Successfully installed keras-tuner-1.3.5 kt-legacy-1.0.5\n"
     ]
    }
   ]
  },
  {
   "cell_type": "code",
   "source": [
    "import numpy as np\n",
    "import pandas as pd\n",
    "from tensorflow import keras\n",
    "from keras.datasets import cifar10\n",
    "from keras.models import Sequential\n",
    "from tensorflow.keras import layers, regularizers\n",
    "from keras.layers import Dense, Flatten, Conv2D, MaxPooling2D, Dropout\n",
    "from keras.optimizers import SGD\n",
    "from tensorflow.keras.callbacks import ModelCheckpoint, EarlyStopping\n",
    "from sklearn.metrics import confusion_matrix, classification_report\n",
    "import matplotlib.pyplot as plt\n",
    "from scipy.stats import reciprocal\n",
    "import kerastuner as kt\n",
    "from kerastuner.tuners import RandomSearch\n",
    "from kerastuner.engine.hyperparameters import HyperParameters"
   ],
   "metadata": {
    "id": "_iZt3BQl6xNH",
    "executionInfo": {
     "status": "ok",
     "timestamp": 1682218133107,
     "user_tz": -300,
     "elapsed": 5223,
     "user": {
      "displayName": "Marilyn Fox",
      "userId": "07191779669483983856"
     }
    },
    "colab": {
     "base_uri": "https://localhost:8080/"
    },
    "outputId": "464fa89d-9e0c-45ca-cebc-e6af3642b47b"
   },
   "execution_count": 3,
   "outputs": [
    {
     "output_type": "stream",
     "name": "stderr",
     "text": [
      "<ipython-input-3-08eaae540803>:13: DeprecationWarning: `import kerastuner` is deprecated, please use `import keras_tuner`.\n",
      "  import kerastuner as kt\n"
     ]
    }
   ]
  },
  {
   "cell_type": "code",
   "source": [
    "num_classes = 10\n",
    "input_shape = (32, 32, 3)\n",
    "# the data, split between train and test sets\n",
    "(x_train, y_train), (x_test, y_test) = keras.datasets.cifar10.load_data()\n",
    "n=5000\n",
    "x_train = x_train[1:n]; y_train=y_train[1:n]\n",
    "x_test=x_test[1:500]; y_test=y_test[1:500]\n",
    "# Scale images to the [0, 1] range\n",
    "x_train = x_train.astype(\"float32\") / 255\n",
    "x_test = x_test.astype(\"float32\") / 255\n",
    "print(\"orig x_train shape:\", x_train.shape)\n",
    "# convert class vectors to binary class matrices\n",
    "y_train = keras.utils.to_categorical(y_train, num_classes)\n",
    "y_test = keras.utils.to_categorical(y_test, num_classes)"
   ],
   "metadata": {
    "id": "TNFpAXTK6-lV",
    "executionInfo": {
     "status": "ok",
     "timestamp": 1682218141489,
     "user_tz": -300,
     "elapsed": 8427,
     "user": {
      "displayName": "Marilyn Fox",
      "userId": "07191779669483983856"
     }
    },
    "colab": {
     "base_uri": "https://localhost:8080/"
    },
    "outputId": "8ee7efa5-4444-4b35-e964-b8a4d819eb84"
   },
   "execution_count": 4,
   "outputs": [
    {
     "output_type": "stream",
     "name": "stdout",
     "text": [
      "Downloading data from https://www.cs.toronto.edu/~kriz/cifar-10-python.tar.gz\n",
      "170498071/170498071 [==============================] - 6s 0us/step\n",
      "orig x_train shape: (4999, 32, 32, 3)\n"
     ]
    }
   ]
  },
  {
   "cell_type": "markdown",
   "source": [
    "## SGD"
   ],
   "metadata": {
    "id": "9G9QUJ6opHxi"
   }
  },
  {
   "cell_type": "code",
   "source": [
    "# Define the model architecture\n",
    "def build_model(hp):\n",
    "  use_saved_model = False\n",
    "  if use_saved_model:\n",
    "    model = keras.models.load_model(\"/content/drive/MyDrive/pruthvirai/CIFAR_CNN/RandomSearch_SGD.model\")\n",
    "    return model\n",
    "  else:\n",
    "    model = Sequential()\n",
    "    model.add(Conv2D(16, (3,3), padding='same', input_shape=x_train.shape[1:],activation='relu'))\n",
    "    model.add(Conv2D(16, (3,3), strides=(2,2), padding='same', activation='relu'))\n",
    "    model.add(Conv2D(32, (3,3), padding='same', activation='relu'))\n",
    "    model.add(Conv2D(32, (3,3), strides=(2,2), padding='same', activation='relu'))\n",
    "    model.add(Dropout(0.5))\n",
    "    model.add(Flatten())\n",
    "    model.add(Dense(num_classes, activation='softmax', kernel_regularizer=regularizers.l1(0.0001)))\n",
    "  \n",
    "    # Compile the model with the given learning rate, momentum and nesterov values\n",
    "    model.compile(optimizer=keras.optimizers.SGD(\n",
    "                                        learning_rate=hp.Choice('learning_rate', [1e-2, 1e-3, 1e-4]),\n",
    "                                        momentum=hp.Choice('momentum', [0.0, 0.2, 0.4, 0.6, 0.8, 0.9]),\n",
    "                                        nesterov=True\n",
    "                                        ),\n",
    "                  loss='categorical_crossentropy',\n",
    "                  metrics=['accuracy'])\n",
    "    return model"
   ],
   "metadata": {
    "id": "S3FFGKnzYWU9",
    "executionInfo": {
     "status": "ok",
     "timestamp": 1682218141490,
     "user_tz": -300,
     "elapsed": 12,
     "user": {
      "displayName": "Marilyn Fox",
      "userId": "07191779669483983856"
     }
    }
   },
   "execution_count": 5,
   "outputs": []
  },
  {
   "cell_type": "code",
   "source": [
    "# Define the hyperparameters search space\n",
    "tuner = RandomSearch(\n",
    "    build_model,\n",
    "    objective='val_accuracy',\n",
    "    max_trials=20,\n",
    "    executions_per_trial=5,\n",
    "    overwrite=True,\n",
    "    directory='/content/drive/MyDrive/pruthvirai/CIFAR_CNN',\n",
    "    project_name='nesterov_random_search_sgd_tuner'\n",
    ")"
   ],
   "metadata": {
    "id": "tbjTQNE4ZNSJ",
    "executionInfo": {
     "status": "ok",
     "timestamp": 1682218148794,
     "user_tz": -300,
     "elapsed": 7315,
     "user": {
      "displayName": "Marilyn Fox",
      "userId": "07191779669483983856"
     }
    }
   },
   "execution_count": 6,
   "outputs": []
  },
  {
   "cell_type": "code",
   "source": [
    "import time\n",
    "start = time.time()\n",
    "tuner.search(x_train, y_train, validation_split=0.2)"
   ],
   "metadata": {
    "id": "GM82lqUMagMC",
    "executionInfo": {
     "status": "ok",
     "timestamp": 1682218372748,
     "user_tz": -300,
     "elapsed": 223965,
     "user": {
      "displayName": "Marilyn Fox",
      "userId": "07191779669483983856"
     }
    },
    "colab": {
     "base_uri": "https://localhost:8080/"
    },
    "outputId": "f8f1fca9-1f8d-4dc1-cc1d-ae6a4f1ecd70"
   },
   "execution_count": 7,
   "outputs": [
    {
     "output_type": "stream",
     "name": "stdout",
     "text": [
      "Trial 15 Complete [00h 00m 14s]\n",
      "val_accuracy: 0.13120000064373016\n",
      "\n",
      "Best val_accuracy So Far: 0.25759999454021454\n",
      "Total elapsed time: 00h 03m 44s\n"
     ]
    }
   ]
  },
  {
   "cell_type": "code",
   "source": [
    "best_hps = tuner.get_best_hyperparameters(num_trials=1)[0]\n",
    "print(f\"\"\"\n",
    "The hyperparameter search is complete. \n",
    "The optimal learning rate for the optimizer is {best_hps.get('learning_rate')}.\n",
    "The optimal momentum for the optimizer is {best_hps.get('momentum')}.\n",
    "\"\"\")"
   ],
   "metadata": {
    "id": "-U9chqqeagei",
    "executionInfo": {
     "status": "ok",
     "timestamp": 1682218372749,
     "user_tz": -300,
     "elapsed": 13,
     "user": {
      "displayName": "Marilyn Fox",
      "userId": "07191779669483983856"
     }
    },
    "colab": {
     "base_uri": "https://localhost:8080/"
    },
    "outputId": "00ce2902-4a85-4aaf-94bd-a5d3d27417f5"
   },
   "execution_count": 8,
   "outputs": [
    {
     "output_type": "stream",
     "name": "stdout",
     "text": [
      "\n",
      "The hyperparameter search is complete. \n",
      "The optimal learning rate for the optimizer is 0.01.\n",
      "The optimal momentum for the optimizer is 0.9.\n",
      "\n"
     ]
    }
   ]
  },
  {
   "cell_type": "code",
   "source": [
    "best_sgd_model = tuner.hypermodel.build(best_hps)\n",
    "sgd_history = best_sgd_model.fit(x_train, y_train, epochs=20, validation_split=0.2)\n",
    "end = time.time()\n",
    "print(f\"Runtime of the program is {end - start}\")"
   ],
   "metadata": {
    "id": "crlYqGPcagzA",
    "executionInfo": {
     "status": "ok",
     "timestamp": 1682218394180,
     "user_tz": -300,
     "elapsed": 21440,
     "user": {
      "displayName": "Marilyn Fox",
      "userId": "07191779669483983856"
     }
    },
    "colab": {
     "base_uri": "https://localhost:8080/"
    },
    "outputId": "cc241069-8344-4608-d1ec-325816b1c80a"
   },
   "execution_count": 9,
   "outputs": [
    {
     "output_type": "stream",
     "name": "stdout",
     "text": [
      "Epoch 1/20\n",
      "125/125 [==============================] - 2s 7ms/step - loss: 2.2429 - accuracy: 0.1820 - val_loss: 2.0708 - val_accuracy: 0.2670\n",
      "Epoch 2/20\n",
      "125/125 [==============================] - 1s 6ms/step - loss: 2.0556 - accuracy: 0.2821 - val_loss: 2.0166 - val_accuracy: 0.2740\n",
      "Epoch 3/20\n",
      "125/125 [==============================] - 1s 6ms/step - loss: 1.9723 - accuracy: 0.3146 - val_loss: 1.9365 - val_accuracy: 0.3090\n",
      "Epoch 4/20\n",
      "125/125 [==============================] - 1s 7ms/step - loss: 1.8813 - accuracy: 0.3396 - val_loss: 1.8307 - val_accuracy: 0.3650\n",
      "Epoch 5/20\n",
      "125/125 [==============================] - 1s 7ms/step - loss: 1.7915 - accuracy: 0.3713 - val_loss: 1.6986 - val_accuracy: 0.4160\n",
      "Epoch 6/20\n",
      "125/125 [==============================] - 1s 8ms/step - loss: 1.7047 - accuracy: 0.4194 - val_loss: 1.6420 - val_accuracy: 0.4510\n",
      "Epoch 7/20\n",
      "125/125 [==============================] - 1s 8ms/step - loss: 1.6223 - accuracy: 0.4459 - val_loss: 1.6243 - val_accuracy: 0.4450\n",
      "Epoch 8/20\n",
      "125/125 [==============================] - 1s 6ms/step - loss: 1.5427 - accuracy: 0.4681 - val_loss: 1.6297 - val_accuracy: 0.4340\n",
      "Epoch 9/20\n",
      "125/125 [==============================] - 1s 6ms/step - loss: 1.4958 - accuracy: 0.4776 - val_loss: 1.5667 - val_accuracy: 0.4700\n",
      "Epoch 10/20\n",
      "125/125 [==============================] - 1s 5ms/step - loss: 1.4369 - accuracy: 0.5086 - val_loss: 1.5858 - val_accuracy: 0.4640\n",
      "Epoch 11/20\n",
      "125/125 [==============================] - 1s 5ms/step - loss: 1.4120 - accuracy: 0.5136 - val_loss: 1.5464 - val_accuracy: 0.4700\n",
      "Epoch 12/20\n",
      "125/125 [==============================] - 1s 5ms/step - loss: 1.3835 - accuracy: 0.5274 - val_loss: 1.5668 - val_accuracy: 0.4750\n",
      "Epoch 13/20\n",
      "125/125 [==============================] - 1s 6ms/step - loss: 1.3184 - accuracy: 0.5559 - val_loss: 1.5663 - val_accuracy: 0.4710\n",
      "Epoch 14/20\n",
      "125/125 [==============================] - 1s 5ms/step - loss: 1.2784 - accuracy: 0.5794 - val_loss: 1.5295 - val_accuracy: 0.4920\n",
      "Epoch 15/20\n",
      "125/125 [==============================] - 1s 5ms/step - loss: 1.2454 - accuracy: 0.5761 - val_loss: 1.5157 - val_accuracy: 0.4930\n",
      "Epoch 16/20\n",
      "125/125 [==============================] - 1s 5ms/step - loss: 1.2270 - accuracy: 0.5939 - val_loss: 1.5995 - val_accuracy: 0.4760\n",
      "Epoch 17/20\n",
      "125/125 [==============================] - 1s 5ms/step - loss: 1.1723 - accuracy: 0.6164 - val_loss: 1.5252 - val_accuracy: 0.4790\n",
      "Epoch 18/20\n",
      "125/125 [==============================] - 1s 6ms/step - loss: 1.1406 - accuracy: 0.6279 - val_loss: 1.5166 - val_accuracy: 0.4900\n",
      "Epoch 19/20\n",
      "125/125 [==============================] - 1s 6ms/step - loss: 1.1395 - accuracy: 0.6247 - val_loss: 1.5308 - val_accuracy: 0.4920\n",
      "Epoch 20/20\n",
      "125/125 [==============================] - 1s 6ms/step - loss: 1.1360 - accuracy: 0.6329 - val_loss: 1.5665 - val_accuracy: 0.4720\n",
      "Runtime of the program is 245.56587719917297\n"
     ]
    }
   ]
  },
  {
   "cell_type": "code",
   "source": [
    "best_sgd_model.save(\"/content/drive/MyDrive/CIFAR_CNN/RandomSearch_SGD.model\")"
   ],
   "metadata": {
    "colab": {
     "base_uri": "https://localhost:8080/"
    },
    "id": "gkCML9SARRDr",
    "executionInfo": {
     "status": "ok",
     "timestamp": 1682218396465,
     "user_tz": -300,
     "elapsed": 2317,
     "user": {
      "displayName": "Marilyn Fox",
      "userId": "07191779669483983856"
     }
    },
    "outputId": "ed848cac-25ec-4583-b6d0-09809d5d5fef"
   },
   "execution_count": 10,
   "outputs": [
    {
     "output_type": "stream",
     "name": "stderr",
     "text": [
      "WARNING:absl:Found untraced functions such as _jit_compiled_convolution_op, _jit_compiled_convolution_op, _jit_compiled_convolution_op, _jit_compiled_convolution_op while saving (showing 4 of 4). These functions will not be directly callable after loading.\n"
     ]
    }
   ]
  },
  {
   "cell_type": "code",
   "source": [
    "val_acc_per_epoch = sgd_history.history['val_accuracy']\n",
    "best_epoch = val_acc_per_epoch.index(max(val_acc_per_epoch)) + 1\n",
    "print('Best epoch: %d' % (best_epoch,))"
   ],
   "metadata": {
    "colab": {
     "base_uri": "https://localhost:8080/"
    },
    "id": "e9AqRWlY77om",
    "executionInfo": {
     "status": "ok",
     "timestamp": 1682218396469,
     "user_tz": -300,
     "elapsed": 53,
     "user": {
      "displayName": "Marilyn Fox",
      "userId": "07191779669483983856"
     }
    },
    "outputId": "cf1c057a-83a2-4398-8f3d-1d4a4efe3297"
   },
   "execution_count": 11,
   "outputs": [
    {
     "output_type": "stream",
     "name": "stdout",
     "text": [
      "Best epoch: 15\n"
     ]
    }
   ]
  },
  {
   "cell_type": "code",
   "source": [
    "import pandas as pd\n",
    "pd.DataFrame(sgd_history.history)"
   ],
   "metadata": {
    "id": "ELR5Qgorag73",
    "executionInfo": {
     "status": "ok",
     "timestamp": 1682218396470,
     "user_tz": -300,
     "elapsed": 46,
     "user": {
      "displayName": "Marilyn Fox",
      "userId": "07191779669483983856"
     }
    },
    "colab": {
     "base_uri": "https://localhost:8080/",
     "height": 676
    },
    "outputId": "8d6bc5ad-553c-4fb4-9ebc-e0ceb92a8602"
   },
   "execution_count": 12,
   "outputs": [
    {
     "output_type": "execute_result",
     "data": {
      "text/plain": [
       "        loss  accuracy  val_loss  val_accuracy\n",
       "0   2.242897  0.182046  2.070790         0.267\n",
       "1   2.055574  0.282071  2.016631         0.274\n",
       "2   1.972294  0.314579  1.936465         0.309\n",
       "3   1.881283  0.339585  1.830657         0.365\n",
       "4   1.791550  0.371343  1.698595         0.416\n",
       "5   1.704695  0.419355  1.642049         0.451\n",
       "6   1.622271  0.445861  1.624318         0.445\n",
       "7   1.542739  0.468117  1.629699         0.434\n",
       "8   1.495761  0.477619  1.566723         0.470\n",
       "9   1.436945  0.508627  1.585784         0.464\n",
       "10  1.411956  0.513628  1.546372         0.470\n",
       "11  1.383541  0.527382  1.566774         0.475\n",
       "12  1.318415  0.555889  1.566278         0.471\n",
       "13  1.278434  0.579395  1.529548         0.492\n",
       "14  1.245360  0.576144  1.515735         0.493\n",
       "15  1.227033  0.593898  1.599472         0.476\n",
       "16  1.172282  0.616404  1.525223         0.479\n",
       "17  1.140638  0.627907  1.516577         0.490\n",
       "18  1.139466  0.624656  1.530823         0.492\n",
       "19  1.136006  0.632908  1.566452         0.472"
      ],
      "text/html": [
       "\n",
       "  <div id=\"df-fc4a8e8e-d606-4ad1-8284-3ba78cf15019\">\n",
       "    <div class=\"colab-df-container\">\n",
       "      <div>\n",
       "<style scoped>\n",
       "    .dataframe tbody tr th:only-of-type {\n",
       "        vertical-align: middle;\n",
       "    }\n",
       "\n",
       "    .dataframe tbody tr th {\n",
       "        vertical-align: top;\n",
       "    }\n",
       "\n",
       "    .dataframe thead th {\n",
       "        text-align: right;\n",
       "    }\n",
       "</style>\n",
       "<table border=\"1\" class=\"dataframe\">\n",
       "  <thead>\n",
       "    <tr style=\"text-align: right;\">\n",
       "      <th></th>\n",
       "      <th>loss</th>\n",
       "      <th>accuracy</th>\n",
       "      <th>val_loss</th>\n",
       "      <th>val_accuracy</th>\n",
       "    </tr>\n",
       "  </thead>\n",
       "  <tbody>\n",
       "    <tr>\n",
       "      <th>0</th>\n",
       "      <td>2.242897</td>\n",
       "      <td>0.182046</td>\n",
       "      <td>2.070790</td>\n",
       "      <td>0.267</td>\n",
       "    </tr>\n",
       "    <tr>\n",
       "      <th>1</th>\n",
       "      <td>2.055574</td>\n",
       "      <td>0.282071</td>\n",
       "      <td>2.016631</td>\n",
       "      <td>0.274</td>\n",
       "    </tr>\n",
       "    <tr>\n",
       "      <th>2</th>\n",
       "      <td>1.972294</td>\n",
       "      <td>0.314579</td>\n",
       "      <td>1.936465</td>\n",
       "      <td>0.309</td>\n",
       "    </tr>\n",
       "    <tr>\n",
       "      <th>3</th>\n",
       "      <td>1.881283</td>\n",
       "      <td>0.339585</td>\n",
       "      <td>1.830657</td>\n",
       "      <td>0.365</td>\n",
       "    </tr>\n",
       "    <tr>\n",
       "      <th>4</th>\n",
       "      <td>1.791550</td>\n",
       "      <td>0.371343</td>\n",
       "      <td>1.698595</td>\n",
       "      <td>0.416</td>\n",
       "    </tr>\n",
       "    <tr>\n",
       "      <th>5</th>\n",
       "      <td>1.704695</td>\n",
       "      <td>0.419355</td>\n",
       "      <td>1.642049</td>\n",
       "      <td>0.451</td>\n",
       "    </tr>\n",
       "    <tr>\n",
       "      <th>6</th>\n",
       "      <td>1.622271</td>\n",
       "      <td>0.445861</td>\n",
       "      <td>1.624318</td>\n",
       "      <td>0.445</td>\n",
       "    </tr>\n",
       "    <tr>\n",
       "      <th>7</th>\n",
       "      <td>1.542739</td>\n",
       "      <td>0.468117</td>\n",
       "      <td>1.629699</td>\n",
       "      <td>0.434</td>\n",
       "    </tr>\n",
       "    <tr>\n",
       "      <th>8</th>\n",
       "      <td>1.495761</td>\n",
       "      <td>0.477619</td>\n",
       "      <td>1.566723</td>\n",
       "      <td>0.470</td>\n",
       "    </tr>\n",
       "    <tr>\n",
       "      <th>9</th>\n",
       "      <td>1.436945</td>\n",
       "      <td>0.508627</td>\n",
       "      <td>1.585784</td>\n",
       "      <td>0.464</td>\n",
       "    </tr>\n",
       "    <tr>\n",
       "      <th>10</th>\n",
       "      <td>1.411956</td>\n",
       "      <td>0.513628</td>\n",
       "      <td>1.546372</td>\n",
       "      <td>0.470</td>\n",
       "    </tr>\n",
       "    <tr>\n",
       "      <th>11</th>\n",
       "      <td>1.383541</td>\n",
       "      <td>0.527382</td>\n",
       "      <td>1.566774</td>\n",
       "      <td>0.475</td>\n",
       "    </tr>\n",
       "    <tr>\n",
       "      <th>12</th>\n",
       "      <td>1.318415</td>\n",
       "      <td>0.555889</td>\n",
       "      <td>1.566278</td>\n",
       "      <td>0.471</td>\n",
       "    </tr>\n",
       "    <tr>\n",
       "      <th>13</th>\n",
       "      <td>1.278434</td>\n",
       "      <td>0.579395</td>\n",
       "      <td>1.529548</td>\n",
       "      <td>0.492</td>\n",
       "    </tr>\n",
       "    <tr>\n",
       "      <th>14</th>\n",
       "      <td>1.245360</td>\n",
       "      <td>0.576144</td>\n",
       "      <td>1.515735</td>\n",
       "      <td>0.493</td>\n",
       "    </tr>\n",
       "    <tr>\n",
       "      <th>15</th>\n",
       "      <td>1.227033</td>\n",
       "      <td>0.593898</td>\n",
       "      <td>1.599472</td>\n",
       "      <td>0.476</td>\n",
       "    </tr>\n",
       "    <tr>\n",
       "      <th>16</th>\n",
       "      <td>1.172282</td>\n",
       "      <td>0.616404</td>\n",
       "      <td>1.525223</td>\n",
       "      <td>0.479</td>\n",
       "    </tr>\n",
       "    <tr>\n",
       "      <th>17</th>\n",
       "      <td>1.140638</td>\n",
       "      <td>0.627907</td>\n",
       "      <td>1.516577</td>\n",
       "      <td>0.490</td>\n",
       "    </tr>\n",
       "    <tr>\n",
       "      <th>18</th>\n",
       "      <td>1.139466</td>\n",
       "      <td>0.624656</td>\n",
       "      <td>1.530823</td>\n",
       "      <td>0.492</td>\n",
       "    </tr>\n",
       "    <tr>\n",
       "      <th>19</th>\n",
       "      <td>1.136006</td>\n",
       "      <td>0.632908</td>\n",
       "      <td>1.566452</td>\n",
       "      <td>0.472</td>\n",
       "    </tr>\n",
       "  </tbody>\n",
       "</table>\n",
       "</div>\n",
       "      <button class=\"colab-df-convert\" onclick=\"convertToInteractive('df-fc4a8e8e-d606-4ad1-8284-3ba78cf15019')\"\n",
       "              title=\"Convert this dataframe to an interactive table.\"\n",
       "              style=\"display:none;\">\n",
       "        \n",
       "  <svg xmlns=\"http://www.w3.org/2000/svg\" height=\"24px\"viewBox=\"0 0 24 24\"\n",
       "       width=\"24px\">\n",
       "    <path d=\"M0 0h24v24H0V0z\" fill=\"none\"/>\n",
       "    <path d=\"M18.56 5.44l.94 2.06.94-2.06 2.06-.94-2.06-.94-.94-2.06-.94 2.06-2.06.94zm-11 1L8.5 8.5l.94-2.06 2.06-.94-2.06-.94L8.5 2.5l-.94 2.06-2.06.94zm10 10l.94 2.06.94-2.06 2.06-.94-2.06-.94-.94-2.06-.94 2.06-2.06.94z\"/><path d=\"M17.41 7.96l-1.37-1.37c-.4-.4-.92-.59-1.43-.59-.52 0-1.04.2-1.43.59L10.3 9.45l-7.72 7.72c-.78.78-.78 2.05 0 2.83L4 21.41c.39.39.9.59 1.41.59.51 0 1.02-.2 1.41-.59l7.78-7.78 2.81-2.81c.8-.78.8-2.07 0-2.86zM5.41 20L4 18.59l7.72-7.72 1.47 1.35L5.41 20z\"/>\n",
       "  </svg>\n",
       "      </button>\n",
       "      \n",
       "  <style>\n",
       "    .colab-df-container {\n",
       "      display:flex;\n",
       "      flex-wrap:wrap;\n",
       "      gap: 12px;\n",
       "    }\n",
       "\n",
       "    .colab-df-convert {\n",
       "      background-color: #E8F0FE;\n",
       "      border: none;\n",
       "      border-radius: 50%;\n",
       "      cursor: pointer;\n",
       "      display: none;\n",
       "      fill: #1967D2;\n",
       "      height: 32px;\n",
       "      padding: 0 0 0 0;\n",
       "      width: 32px;\n",
       "    }\n",
       "\n",
       "    .colab-df-convert:hover {\n",
       "      background-color: #E2EBFA;\n",
       "      box-shadow: 0px 1px 2px rgba(60, 64, 67, 0.3), 0px 1px 3px 1px rgba(60, 64, 67, 0.15);\n",
       "      fill: #174EA6;\n",
       "    }\n",
       "\n",
       "    [theme=dark] .colab-df-convert {\n",
       "      background-color: #3B4455;\n",
       "      fill: #D2E3FC;\n",
       "    }\n",
       "\n",
       "    [theme=dark] .colab-df-convert:hover {\n",
       "      background-color: #434B5C;\n",
       "      box-shadow: 0px 1px 3px 1px rgba(0, 0, 0, 0.15);\n",
       "      filter: drop-shadow(0px 1px 2px rgba(0, 0, 0, 0.3));\n",
       "      fill: #FFFFFF;\n",
       "    }\n",
       "  </style>\n",
       "\n",
       "      <script>\n",
       "        const buttonEl =\n",
       "          document.querySelector('#df-fc4a8e8e-d606-4ad1-8284-3ba78cf15019 button.colab-df-convert');\n",
       "        buttonEl.style.display =\n",
       "          google.colab.kernel.accessAllowed ? 'block' : 'none';\n",
       "\n",
       "        async function convertToInteractive(key) {\n",
       "          const element = document.querySelector('#df-fc4a8e8e-d606-4ad1-8284-3ba78cf15019');\n",
       "          const dataTable =\n",
       "            await google.colab.kernel.invokeFunction('convertToInteractive',\n",
       "                                                     [key], {});\n",
       "          if (!dataTable) return;\n",
       "\n",
       "          const docLinkHtml = 'Like what you see? Visit the ' +\n",
       "            '<a target=\"_blank\" href=https://colab.research.google.com/notebooks/data_table.ipynb>data table notebook</a>'\n",
       "            + ' to learn more about interactive tables.';\n",
       "          element.innerHTML = '';\n",
       "          dataTable['output_type'] = 'display_data';\n",
       "          await google.colab.output.renderOutput(dataTable, element);\n",
       "          const docLink = document.createElement('div');\n",
       "          docLink.innerHTML = docLinkHtml;\n",
       "          element.appendChild(docLink);\n",
       "        }\n",
       "      </script>\n",
       "    </div>\n",
       "  </div>\n",
       "  "
      ]
     },
     "metadata": {},
     "execution_count": 12
    }
   ]
  },
  {
   "cell_type": "code",
   "source": [
    "plt.subplot(211)\n",
    "plt.plot(sgd_history.history['accuracy'])\n",
    "plt.plot(sgd_history.history['val_accuracy'])\n",
    "plt.title('NesterovRandomSearch_Model_Accuracy')\n",
    "plt.ylabel('accuracy')\n",
    "plt.xlabel('epoch')\n",
    "plt.legend(['train', 'val'], loc='upper left')\n",
    "plt.xticks(np.arange(0, 20, 1))\n",
    "plt.subplot(212)\n",
    "plt.plot(sgd_history.history['loss'])\n",
    "plt.plot(sgd_history.history['val_loss'])\n",
    "plt.title('NesterovRandomSearch__Model_Loss')\n",
    "plt.ylabel('loss'); plt.xlabel('epoch')\n",
    "plt.legend(['train', 'val'], loc='upper left')\n",
    "plt.xticks(np.arange(0, 20, 1))\n",
    "plt.subplots_adjust(hspace=0.8)\n",
    "# plt.show()\n",
    "images_dir = '/content/drive/MyDrive/pruthvirai/CIFAR_CNN'\n",
    "plt.savefig(f\"{images_dir}/randomsearch_sgd.png\")"
   ],
   "metadata": {
    "id": "inR_1MQe70XN",
    "executionInfo": {
     "status": "ok",
     "timestamp": 1682218896868,
     "user_tz": -300,
     "elapsed": 1730,
     "user": {
      "displayName": "Marilyn Fox",
      "userId": "07191779669483983856"
     }
    },
    "colab": {
     "base_uri": "https://localhost:8080/",
     "height": 472
    },
    "outputId": "ec95022c-0cff-4820-d9b0-a42284f055af"
   },
   "execution_count": 28,
   "outputs": [
    {
     "output_type": "display_data",
     "data": {
      "text/plain": [
       "<Figure size 640x480 with 2 Axes>"
      ],
      "image/png": "[encoded data removed]"
     },
     "metadata": {}
    }
   ]
  },
  {
   "cell_type": "code",
   "source": [
    "preds = best_sgd_model.predict(x_train)\n",
    "y_pred = np.argmax(preds, axis=1)\n",
    "y_train1 = np.argmax(y_train, axis=1)\n",
    "print(classification_report(y_train1, y_pred))\n",
    "print(confusion_matrix(y_train1,y_pred))"
   ],
   "metadata": {
    "id": "Pv9m_BBw6xXY",
    "executionInfo": {
     "status": "ok",
     "timestamp": 1682218398517,
     "user_tz": -300,
     "elapsed": 1032,
     "user": {
      "displayName": "Marilyn Fox",
      "userId": "07191779669483983856"
     }
    },
    "colab": {
     "base_uri": "https://localhost:8080/"
    },
    "outputId": "54b90913-fad9-4ad2-dc74-a3d557014af5"
   },
   "execution_count": 14,
   "outputs": [
    {
     "output_type": "stream",
     "name": "stdout",
     "text": [
      "157/157 [==============================] - 0s 3ms/step\n",
      "              precision    recall  f1-score   support\n",
      "\n",
      "           0       0.74      0.81      0.77       505\n",
      "           1       0.88      0.78      0.83       460\n",
      "           2       0.74      0.56      0.64       519\n",
      "           3       0.75      0.52      0.61       486\n",
      "           4       0.57      0.75      0.65       519\n",
      "           5       0.74      0.65      0.69       488\n",
      "           6       0.67      0.77      0.72       518\n",
      "           7       0.71      0.82      0.76       486\n",
      "           8       0.80      0.75      0.77       520\n",
      "           9       0.76      0.83      0.79       498\n",
      "\n",
      "    accuracy                           0.72      4999\n",
      "   macro avg       0.74      0.72      0.72      4999\n",
      "weighted avg       0.73      0.72      0.72      4999\n",
      "\n",
      "[[409   5   7   0   9   0   5  13  41  16]\n",
      " [  9 360   1   1   6   1  10   8  21  43]\n",
      " [ 24   5 292  17  84  16  35  25   9  12]\n",
      " [  6   2  22 252  52  49  55  31   6  11]\n",
      " [ 19   0  16   6 390  11  32  34   5   6]\n",
      " [  4   1  19  31  44 316  34  30   3   6]\n",
      " [  4   3  15  12  60  11 400   3   5   5]\n",
      " [  7   3  13   7  27   9  10 398   2  10]\n",
      " [ 58  12   6   2  12  10   6   2 391  21]\n",
      " [ 16  20   5   6   2   4  12  13   7 413]]\n"
     ]
    }
   ]
  },
  {
   "cell_type": "code",
   "source": [
    "preds = best_sgd_model.predict(x_test)\n",
    "y_pred = np.argmax(preds, axis=1)\n",
    "y_test1 = np.argmax(y_test, axis=1)\n",
    "print(classification_report(y_test1, y_pred))\n",
    "print(confusion_matrix(y_test1,y_pred))"
   ],
   "metadata": {
    "id": "x2Ow-Stz6xha",
    "executionInfo": {
     "status": "ok",
     "timestamp": 1682218399633,
     "user_tz": -300,
     "elapsed": 1127,
     "user": {
      "displayName": "Marilyn Fox",
      "userId": "07191779669483983856"
     }
    },
    "colab": {
     "base_uri": "https://localhost:8080/"
    },
    "outputId": "bfd77639-2e57-4146-ee21-dd7a9701ab2d"
   },
   "execution_count": 15,
   "outputs": [
    {
     "output_type": "stream",
     "name": "stdout",
     "text": [
      "16/16 [==============================] - 0s 8ms/step\n",
      "              precision    recall  f1-score   support\n",
      "\n",
      "           0       0.57      0.56      0.57        57\n",
      "           1       0.62      0.56      0.59        41\n",
      "           2       0.57      0.45      0.51        51\n",
      "           3       0.28      0.19      0.23        48\n",
      "           4       0.29      0.40      0.33        40\n",
      "           5       0.38      0.29      0.33        48\n",
      "           6       0.48      0.59      0.53        54\n",
      "           7       0.40      0.55      0.46        47\n",
      "           8       0.59      0.51      0.55        57\n",
      "           9       0.64      0.70      0.67        56\n",
      "\n",
      "    accuracy                           0.49       499\n",
      "   macro avg       0.48      0.48      0.48       499\n",
      "weighted avg       0.49      0.49      0.48       499\n",
      "\n",
      "[[32  2  3  1  2  0  3  1  8  5]\n",
      " [ 1 23  0  1  1  0  2  0  6  7]\n",
      " [ 2  2 23  1  9  3  5  5  0  1]\n",
      " [ 0  0  4  9  4  9 13  6  0  3]\n",
      " [ 0  3  2  2 16  5  7  5  0  0]\n",
      " [ 0  0  3  6  8 14  2 13  2  0]\n",
      " [ 0  0  3  4 10  1 32  3  1  0]\n",
      " [ 2  1  0  7  4  2  2 26  0  3]\n",
      " [14  4  2  0  1  3  0  1 29  3]\n",
      " [ 5  2  0  1  1  0  0  5  3 39]]\n"
     ]
    }
   ]
  },
  {
   "cell_type": "markdown",
   "source": [
    "## Adam"
   ],
   "metadata": {
    "id": "sE-jgD8BpU9s"
   }
  },
  {
   "cell_type": "code",
   "source": [
    "# Define the model architecture\n",
    "def build_model(hp):\n",
    "  use_saved_model = False\n",
    "  if use_saved_model:\n",
    "    model = keras.models.load_model(\"/content/drive/MyDrive/pruthvirai/CIFAR_CNN/RandomSearch_Adam.model\")\n",
    "    return model\n",
    "  else:\n",
    "    model = Sequential()\n",
    "    model.add(Conv2D(16, (3,3), padding='same', input_shape=x_train.shape[1:],activation='relu'))\n",
    "    model.add(Conv2D(16, (3,3), strides=(2,2), padding='same', activation='relu'))\n",
    "    model.add(Conv2D(32, (3,3), padding='same', activation='relu'))\n",
    "    model.add(Conv2D(32, (3,3), strides=(2,2), padding='same', activation='relu'))\n",
    "    model.add(Dropout(0.5))\n",
    "    model.add(Flatten())\n",
    "    model.add(Dense(num_classes, activation='softmax', kernel_regularizer=regularizers.l1(0.0001)))\n",
    "\n",
    "    # Compile the model with the given learning rate, momentum and nesterov values\n",
    "    model.compile(optimizer=Adam(\n",
    "                                    learning_rate=hp.Choice('learning_rate', [1e-2, 1e-3, 1e-4]),\n",
    "                                    beta_1=hp.Choice('beta_1', [0.8, 0.9, 0.95, 0.99]),\n",
    "                                    beta_2=hp.Choice('beta_2', [0.8, 0.9, 0.95, 0.99]),\n",
    "                                    ),\n",
    "                  loss=\"categorical_crossentropy\", \n",
    "                  metrics=[\"accuracy\"],\n",
    "    )\n",
    "    return model"
   ],
   "metadata": {
    "id": "vjm0fV0TpZcF",
    "executionInfo": {
     "status": "ok",
     "timestamp": 1682218399641,
     "user_tz": -300,
     "elapsed": 23,
     "user": {
      "displayName": "Marilyn Fox",
      "userId": "07191779669483983856"
     }
    }
   },
   "execution_count": 16,
   "outputs": []
  },
  {
   "cell_type": "code",
   "source": [
    "# Define the hyperparameters search space\n",
    "tuner = RandomSearch(\n",
    "    build_model,\n",
    "    objective='val_accuracy',\n",
    "    max_trials=20,\n",
    "    executions_per_trial=5,\n",
    "    overwrite=True,\n",
    "    directory='/content/drive/MyDrive/pruthvirai/CIFAR_CNN',\n",
    "    project_name='nesterov_random_search_adam_tuner'\n",
    ")"
   ],
   "metadata": {
    "id": "ASpFNaSDpeFZ",
    "executionInfo": {
     "status": "ok",
     "timestamp": 1682218401069,
     "user_tz": -300,
     "elapsed": 1447,
     "user": {
      "displayName": "Marilyn Fox",
      "userId": "07191779669483983856"
     }
    }
   },
   "execution_count": 17,
   "outputs": []
  },
  {
   "cell_type": "code",
   "source": [
    "import time\n",
    "start = time.time()\n",
    "tuner.search(x_train, y_train, validation_split=0.2)"
   ],
   "metadata": {
    "id": "a39tCYigpeN6",
    "colab": {
     "base_uri": "https://localhost:8080/"
    },
    "executionInfo": {
     "status": "ok",
     "timestamp": 1682218810739,
     "user_tz": -300,
     "elapsed": 409688,
     "user": {
      "displayName": "Marilyn Fox",
      "userId": "07191779669483983856"
     }
    },
    "outputId": "24f8eac9-473d-4944-9f90-db8bedd37b7d"
   },
   "execution_count": 18,
   "outputs": [
    {
     "output_type": "stream",
     "name": "stdout",
     "text": [
      "Trial 20 Complete [00h 00m 24s]\n",
      "val_accuracy: 0.24859999716281891\n",
      "\n",
      "Best val_accuracy So Far: 0.3118000030517578\n",
      "Total elapsed time: 00h 06m 49s\n"
     ]
    }
   ]
  },
  {
   "cell_type": "code",
   "source": [
    "best_hps_adam = tuner.get_best_hyperparameters(num_trials=1)[0]\n",
    "print(f\"\"\"\n",
    "The hyperparameter search is complete. \n",
    "The optimal learning rate for the optimizer is {best_hps_adam.get('learning_rate')}.\n",
    "The optimal beta_1 for the optimizer is {best_hps_adam.get('beta_1')}.\n",
    "The optimal beta_1 for the optimizer is {best_hps_adam.get('beta_2')}.\n",
    "\"\"\")"
   ],
   "metadata": {
    "id": "Nu0i74PWpeR3",
    "colab": {
     "base_uri": "https://localhost:8080/"
    },
    "executionInfo": {
     "status": "ok",
     "timestamp": 1682218810740,
     "user_tz": -300,
     "elapsed": 29,
     "user": {
      "displayName": "Marilyn Fox",
      "userId": "07191779669483983856"
     }
    },
    "outputId": "82927480-6f43-4152-bfbb-daf1a2db10ca"
   },
   "execution_count": 19,
   "outputs": [
    {
     "output_type": "stream",
     "name": "stdout",
     "text": [
      "\n",
      "The hyperparameter search is complete. \n",
      "The optimal learning rate for the optimizer is 0.001.\n",
      "The optimal beta_1 for the optimizer is 0.8.\n",
      "The optimal beta_1 for the optimizer is 0.8.\n",
      "\n"
     ]
    }
   ]
  },
  {
   "cell_type": "code",
   "source": [
    "adam_sgd_model = tuner.hypermodel.build(best_hps_adam)\n",
    "adam_history = adam_sgd_model.fit(x_train, y_train, epochs=20, validation_split=0.2)\n",
    "end = time.time()\n",
    "print(f\"Runtime of the program is {end - start}\")"
   ],
   "metadata": {
    "id": "Oj9lNOV1peX0",
    "colab": {
     "base_uri": "https://localhost:8080/"
    },
    "executionInfo": {
     "status": "ok",
     "timestamp": 1682218839960,
     "user_tz": -300,
     "elapsed": 29230,
     "user": {
      "displayName": "Marilyn Fox",
      "userId": "07191779669483983856"
     }
    },
    "outputId": "42607a55-67e2-4967-bee9-917fc5e07bcc"
   },
   "execution_count": 20,
   "outputs": [
    {
     "output_type": "stream",
     "name": "stdout",
     "text": [
      "Epoch 1/20\n",
      "125/125 [==============================] - 7s 12ms/step - loss: 2.1811 - accuracy: 0.1940 - val_loss: 1.9364 - val_accuracy: 0.3330\n",
      "Epoch 2/20\n",
      "125/125 [==============================] - 1s 10ms/step - loss: 1.8832 - accuracy: 0.3346 - val_loss: 1.8224 - val_accuracy: 0.3830\n",
      "Epoch 3/20\n",
      "125/125 [==============================] - 1s 10ms/step - loss: 1.7507 - accuracy: 0.3863 - val_loss: 1.6819 - val_accuracy: 0.4270\n",
      "Epoch 4/20\n",
      "125/125 [==============================] - 1s 9ms/step - loss: 1.6757 - accuracy: 0.4249 - val_loss: 1.6361 - val_accuracy: 0.4540\n",
      "Epoch 5/20\n",
      "125/125 [==============================] - 1s 10ms/step - loss: 1.6180 - accuracy: 0.4451 - val_loss: 1.6660 - val_accuracy: 0.4230\n",
      "Epoch 6/20\n",
      "125/125 [==============================] - 1s 10ms/step - loss: 1.5693 - accuracy: 0.4586 - val_loss: 1.5885 - val_accuracy: 0.4620\n",
      "Epoch 7/20\n",
      "125/125 [==============================] - 2s 14ms/step - loss: 1.5275 - accuracy: 0.4769 - val_loss: 1.6555 - val_accuracy: 0.4380\n",
      "Epoch 8/20\n",
      "125/125 [==============================] - 2s 17ms/step - loss: 1.4900 - accuracy: 0.4969 - val_loss: 1.5669 - val_accuracy: 0.4840\n",
      "Epoch 9/20\n",
      "125/125 [==============================] - 2s 13ms/step - loss: 1.4485 - accuracy: 0.5191 - val_loss: 1.5479 - val_accuracy: 0.4850\n",
      "Epoch 10/20\n",
      "125/125 [==============================] - 1s 8ms/step - loss: 1.4266 - accuracy: 0.5234 - val_loss: 1.5870 - val_accuracy: 0.4820\n",
      "Epoch 11/20\n",
      "125/125 [==============================] - 1s 8ms/step - loss: 1.4026 - accuracy: 0.5329 - val_loss: 1.5341 - val_accuracy: 0.4980\n",
      "Epoch 12/20\n",
      "125/125 [==============================] - 1s 8ms/step - loss: 1.3854 - accuracy: 0.5501 - val_loss: 1.5566 - val_accuracy: 0.4950\n",
      "Epoch 13/20\n",
      "125/125 [==============================] - 1s 8ms/step - loss: 1.3676 - accuracy: 0.5606 - val_loss: 1.5453 - val_accuracy: 0.4960\n",
      "Epoch 14/20\n",
      "125/125 [==============================] - 1s 6ms/step - loss: 1.3375 - accuracy: 0.5756 - val_loss: 1.5432 - val_accuracy: 0.5150\n",
      "Epoch 15/20\n",
      "125/125 [==============================] - 1s 6ms/step - loss: 1.3203 - accuracy: 0.5831 - val_loss: 1.5724 - val_accuracy: 0.4810\n",
      "Epoch 16/20\n",
      "125/125 [==============================] - 1s 9ms/step - loss: 1.2816 - accuracy: 0.6029 - val_loss: 1.5959 - val_accuracy: 0.4820\n",
      "Epoch 17/20\n",
      "125/125 [==============================] - 1s 6ms/step - loss: 1.2569 - accuracy: 0.6007 - val_loss: 1.5758 - val_accuracy: 0.4990\n",
      "Epoch 18/20\n",
      "125/125 [==============================] - 1s 6ms/step - loss: 1.2439 - accuracy: 0.6192 - val_loss: 1.5875 - val_accuracy: 0.5090\n",
      "Epoch 19/20\n",
      "125/125 [==============================] - 1s 9ms/step - loss: 1.2321 - accuracy: 0.6182 - val_loss: 1.6561 - val_accuracy: 0.4930\n",
      "Epoch 20/20\n",
      "125/125 [==============================] - 1s 7ms/step - loss: 1.2036 - accuracy: 0.6392 - val_loss: 1.6299 - val_accuracy: 0.5000\n",
      "Runtime of the program is 439.3217134475708\n"
     ]
    }
   ]
  },
  {
   "cell_type": "code",
   "source": [
    "adam_sgd_model.save(\"/content/drive/MyDrive/pruthvirai/CIFAR_CNN/RandomSearch_Adam.model\")"
   ],
   "metadata": {
    "id": "btqK5yufpeeq",
    "colab": {
     "base_uri": "https://localhost:8080/"
    },
    "executionInfo": {
     "status": "ok",
     "timestamp": 1682218843680,
     "user_tz": -300,
     "elapsed": 3726,
     "user": {
      "displayName": "Marilyn Fox",
      "userId": "07191779669483983856"
     }
    },
    "outputId": "e65954ed-acae-4bbe-f788-fac63393dd5e"
   },
   "execution_count": 21,
   "outputs": [
    {
     "output_type": "stream",
     "name": "stderr",
     "text": [
      "WARNING:absl:Found untraced functions such as _jit_compiled_convolution_op, _jit_compiled_convolution_op, _jit_compiled_convolution_op, _jit_compiled_convolution_op while saving (showing 4 of 4). These functions will not be directly callable after loading.\n"
     ]
    }
   ]
  },
  {
   "cell_type": "code",
   "source": [
    "val_acc_per_epoch = adam_history.history['val_accuracy']\n",
    "best_epoch = val_acc_per_epoch.index(max(val_acc_per_epoch)) + 1\n",
    "print('Best epoch: %d' % (best_epoch,))"
   ],
   "metadata": {
    "id": "JFC-FAD4pvM0",
    "colab": {
     "base_uri": "https://localhost:8080/"
    },
    "executionInfo": {
     "status": "ok",
     "timestamp": 1682218843681,
     "user_tz": -300,
     "elapsed": 48,
     "user": {
      "displayName": "Marilyn Fox",
      "userId": "07191779669483983856"
     }
    },
    "outputId": "17505a04-0591-4680-9235-be77dad51f05"
   },
   "execution_count": 22,
   "outputs": [
    {
     "output_type": "stream",
     "name": "stdout",
     "text": [
      "Best epoch: 14\n"
     ]
    }
   ]
  },
  {
   "cell_type": "code",
   "source": [
    "import pandas as pd\n",
    "pd.DataFrame(adam_history.history)"
   ],
   "metadata": {
    "id": "bS0xdfB1pvZg",
    "colab": {
     "base_uri": "https://localhost:8080/",
     "height": 676
    },
    "executionInfo": {
     "status": "ok",
     "timestamp": 1682218843683,
     "user_tz": -300,
     "elapsed": 46,
     "user": {
      "displayName": "Marilyn Fox",
      "userId": "07191779669483983856"
     }
    },
    "outputId": "67467083-a11e-4a51-9cb2-e3b39139027c"
   },
   "execution_count": 23,
   "outputs": [
    {
     "output_type": "execute_result",
     "data": {
      "text/plain": [
       "        loss  accuracy  val_loss  val_accuracy\n",
       "0   2.181096  0.194049  1.936411         0.333\n",
       "1   1.883221  0.334584  1.822396         0.383\n",
       "2   1.750718  0.386347  1.681863         0.427\n",
       "3   1.675731  0.424856  1.636087         0.454\n",
       "4   1.618022  0.445111  1.665962         0.423\n",
       "5   1.569271  0.458615  1.588549         0.462\n",
       "6   1.527537  0.476869  1.655468         0.438\n",
       "7   1.490028  0.496874  1.566928         0.484\n",
       "8   1.448528  0.519130  1.547894         0.485\n",
       "9   1.426553  0.523381  1.587038         0.482\n",
       "10  1.402583  0.532883  1.534058         0.498\n",
       "11  1.385356  0.550138  1.556607         0.495\n",
       "12  1.367591  0.560640  1.545344         0.496\n",
       "13  1.337494  0.575644  1.543179         0.515\n",
       "14  1.320335  0.583146  1.572359         0.481\n",
       "15  1.281596  0.602901  1.595913         0.482\n",
       "16  1.256887  0.600650  1.575810         0.499\n",
       "17  1.243915  0.619155  1.587516         0.509\n",
       "18  1.232146  0.618155  1.656085         0.493\n",
       "19  1.203585  0.639160  1.629915         0.500"
      ],
      "text/html": [
       "\n",
       "  <div id=\"df-d8b0ee89-1c80-4ae8-a0e1-8b4a4b629d10\">\n",
       "    <div class=\"colab-df-container\">\n",
       "      <div>\n",
       "<style scoped>\n",
       "    .dataframe tbody tr th:only-of-type {\n",
       "        vertical-align: middle;\n",
       "    }\n",
       "\n",
       "    .dataframe tbody tr th {\n",
       "        vertical-align: top;\n",
       "    }\n",
       "\n",
       "    .dataframe thead th {\n",
       "        text-align: right;\n",
       "    }\n",
       "</style>\n",
       "<table border=\"1\" class=\"dataframe\">\n",
       "  <thead>\n",
       "    <tr style=\"text-align: right;\">\n",
       "      <th></th>\n",
       "      <th>loss</th>\n",
       "      <th>accuracy</th>\n",
       "      <th>val_loss</th>\n",
       "      <th>val_accuracy</th>\n",
       "    </tr>\n",
       "  </thead>\n",
       "  <tbody>\n",
       "    <tr>\n",
       "      <th>0</th>\n",
       "      <td>2.181096</td>\n",
       "      <td>0.194049</td>\n",
       "      <td>1.936411</td>\n",
       "      <td>0.333</td>\n",
       "    </tr>\n",
       "    <tr>\n",
       "      <th>1</th>\n",
       "      <td>1.883221</td>\n",
       "      <td>0.334584</td>\n",
       "      <td>1.822396</td>\n",
       "      <td>0.383</td>\n",
       "    </tr>\n",
       "    <tr>\n",
       "      <th>2</th>\n",
       "      <td>1.750718</td>\n",
       "      <td>0.386347</td>\n",
       "      <td>1.681863</td>\n",
       "      <td>0.427</td>\n",
       "    </tr>\n",
       "    <tr>\n",
       "      <th>3</th>\n",
       "      <td>1.675731</td>\n",
       "      <td>0.424856</td>\n",
       "      <td>1.636087</td>\n",
       "      <td>0.454</td>\n",
       "    </tr>\n",
       "    <tr>\n",
       "      <th>4</th>\n",
       "      <td>1.618022</td>\n",
       "      <td>0.445111</td>\n",
       "      <td>1.665962</td>\n",
       "      <td>0.423</td>\n",
       "    </tr>\n",
       "    <tr>\n",
       "      <th>5</th>\n",
       "      <td>1.569271</td>\n",
       "      <td>0.458615</td>\n",
       "      <td>1.588549</td>\n",
       "      <td>0.462</td>\n",
       "    </tr>\n",
       "    <tr>\n",
       "      <th>6</th>\n",
       "      <td>1.527537</td>\n",
       "      <td>0.476869</td>\n",
       "      <td>1.655468</td>\n",
       "      <td>0.438</td>\n",
       "    </tr>\n",
       "    <tr>\n",
       "      <th>7</th>\n",
       "      <td>1.490028</td>\n",
       "      <td>0.496874</td>\n",
       "      <td>1.566928</td>\n",
       "      <td>0.484</td>\n",
       "    </tr>\n",
       "    <tr>\n",
       "      <th>8</th>\n",
       "      <td>1.448528</td>\n",
       "      <td>0.519130</td>\n",
       "      <td>1.547894</td>\n",
       "      <td>0.485</td>\n",
       "    </tr>\n",
       "    <tr>\n",
       "      <th>9</th>\n",
       "      <td>1.426553</td>\n",
       "      <td>0.523381</td>\n",
       "      <td>1.587038</td>\n",
       "      <td>0.482</td>\n",
       "    </tr>\n",
       "    <tr>\n",
       "      <th>10</th>\n",
       "      <td>1.402583</td>\n",
       "      <td>0.532883</td>\n",
       "      <td>1.534058</td>\n",
       "      <td>0.498</td>\n",
       "    </tr>\n",
       "    <tr>\n",
       "      <th>11</th>\n",
       "      <td>1.385356</td>\n",
       "      <td>0.550138</td>\n",
       "      <td>1.556607</td>\n",
       "      <td>0.495</td>\n",
       "    </tr>\n",
       "    <tr>\n",
       "      <th>12</th>\n",
       "      <td>1.367591</td>\n",
       "      <td>0.560640</td>\n",
       "      <td>1.545344</td>\n",
       "      <td>0.496</td>\n",
       "    </tr>\n",
       "    <tr>\n",
       "      <th>13</th>\n",
       "      <td>1.337494</td>\n",
       "      <td>0.575644</td>\n",
       "      <td>1.543179</td>\n",
       "      <td>0.515</td>\n",
       "    </tr>\n",
       "    <tr>\n",
       "      <th>14</th>\n",
       "      <td>1.320335</td>\n",
       "      <td>0.583146</td>\n",
       "      <td>1.572359</td>\n",
       "      <td>0.481</td>\n",
       "    </tr>\n",
       "    <tr>\n",
       "      <th>15</th>\n",
       "      <td>1.281596</td>\n",
       "      <td>0.602901</td>\n",
       "      <td>1.595913</td>\n",
       "      <td>0.482</td>\n",
       "    </tr>\n",
       "    <tr>\n",
       "      <th>16</th>\n",
       "      <td>1.256887</td>\n",
       "      <td>0.600650</td>\n",
       "      <td>1.575810</td>\n",
       "      <td>0.499</td>\n",
       "    </tr>\n",
       "    <tr>\n",
       "      <th>17</th>\n",
       "      <td>1.243915</td>\n",
       "      <td>0.619155</td>\n",
       "      <td>1.587516</td>\n",
       "      <td>0.509</td>\n",
       "    </tr>\n",
       "    <tr>\n",
       "      <th>18</th>\n",
       "      <td>1.232146</td>\n",
       "      <td>0.618155</td>\n",
       "      <td>1.656085</td>\n",
       "      <td>0.493</td>\n",
       "    </tr>\n",
       "    <tr>\n",
       "      <th>19</th>\n",
       "      <td>1.203585</td>\n",
       "      <td>0.639160</td>\n",
       "      <td>1.629915</td>\n",
       "      <td>0.500</td>\n",
       "    </tr>\n",
       "  </tbody>\n",
       "</table>\n",
       "</div>\n",
       "      <button class=\"colab-df-convert\" onclick=\"convertToInteractive('df-d8b0ee89-1c80-4ae8-a0e1-8b4a4b629d10')\"\n",
       "              title=\"Convert this dataframe to an interactive table.\"\n",
       "              style=\"display:none;\">\n",
       "        \n",
       "  <svg xmlns=\"http://www.w3.org/2000/svg\" height=\"24px\"viewBox=\"0 0 24 24\"\n",
       "       width=\"24px\">\n",
       "    <path d=\"M0 0h24v24H0V0z\" fill=\"none\"/>\n",
       "    <path d=\"M18.56 5.44l.94 2.06.94-2.06 2.06-.94-2.06-.94-.94-2.06-.94 2.06-2.06.94zm-11 1L8.5 8.5l.94-2.06 2.06-.94-2.06-.94L8.5 2.5l-.94 2.06-2.06.94zm10 10l.94 2.06.94-2.06 2.06-.94-2.06-.94-.94-2.06-.94 2.06-2.06.94z\"/><path d=\"M17.41 7.96l-1.37-1.37c-.4-.4-.92-.59-1.43-.59-.52 0-1.04.2-1.43.59L10.3 9.45l-7.72 7.72c-.78.78-.78 2.05 0 2.83L4 21.41c.39.39.9.59 1.41.59.51 0 1.02-.2 1.41-.59l7.78-7.78 2.81-2.81c.8-.78.8-2.07 0-2.86zM5.41 20L4 18.59l7.72-7.72 1.47 1.35L5.41 20z\"/>\n",
       "  </svg>\n",
       "      </button>\n",
       "      \n",
       "  <style>\n",
       "    .colab-df-container {\n",
       "      display:flex;\n",
       "      flex-wrap:wrap;\n",
       "      gap: 12px;\n",
       "    }\n",
       "\n",
       "    .colab-df-convert {\n",
       "      background-color: #E8F0FE;\n",
       "      border: none;\n",
       "      border-radius: 50%;\n",
       "      cursor: pointer;\n",
       "      display: none;\n",
       "      fill: #1967D2;\n",
       "      height: 32px;\n",
       "      padding: 0 0 0 0;\n",
       "      width: 32px;\n",
       "    }\n",
       "\n",
       "    .colab-df-convert:hover {\n",
       "      background-color: #E2EBFA;\n",
       "      box-shadow: 0px 1px 2px rgba(60, 64, 67, 0.3), 0px 1px 3px 1px rgba(60, 64, 67, 0.15);\n",
       "      fill: #174EA6;\n",
       "    }\n",
       "\n",
       "    [theme=dark] .colab-df-convert {\n",
       "      background-color: #3B4455;\n",
       "      fill: #D2E3FC;\n",
       "    }\n",
       "\n",
       "    [theme=dark] .colab-df-convert:hover {\n",
       "      background-color: #434B5C;\n",
       "      box-shadow: 0px 1px 3px 1px rgba(0, 0, 0, 0.15);\n",
       "      filter: drop-shadow(0px 1px 2px rgba(0, 0, 0, 0.3));\n",
       "      fill: #FFFFFF;\n",
       "    }\n",
       "  </style>\n",
       "\n",
       "      <script>\n",
       "        const buttonEl =\n",
       "          document.querySelector('#df-d8b0ee89-1c80-4ae8-a0e1-8b4a4b629d10 button.colab-df-convert');\n",
       "        buttonEl.style.display =\n",
       "          google.colab.kernel.accessAllowed ? 'block' : 'none';\n",
       "\n",
       "        async function convertToInteractive(key) {\n",
       "          const element = document.querySelector('#df-d8b0ee89-1c80-4ae8-a0e1-8b4a4b629d10');\n",
       "          const dataTable =\n",
       "            await google.colab.kernel.invokeFunction('convertToInteractive',\n",
       "                                                     [key], {});\n",
       "          if (!dataTable) return;\n",
       "\n",
       "          const docLinkHtml = 'Like what you see? Visit the ' +\n",
       "            '<a target=\"_blank\" href=https://colab.research.google.com/notebooks/data_table.ipynb>data table notebook</a>'\n",
       "            + ' to learn more about interactive tables.';\n",
       "          element.innerHTML = '';\n",
       "          dataTable['output_type'] = 'display_data';\n",
       "          await google.colab.output.renderOutput(dataTable, element);\n",
       "          const docLink = document.createElement('div');\n",
       "          docLink.innerHTML = docLinkHtml;\n",
       "          element.appendChild(docLink);\n",
       "        }\n",
       "      </script>\n",
       "    </div>\n",
       "  </div>\n",
       "  "
      ]
     },
     "metadata": {},
     "execution_count": 23
    }
   ]
  },
  {
   "cell_type": "code",
   "source": [
    "plt.subplot(211)\n",
    "plt.plot(adam_history.history['accuracy'])\n",
    "plt.plot(adam_history.history['val_accuracy'])\n",
    "plt.title('NesterovRandomSearch_Model_Accuracy')\n",
    "plt.ylabel('accuracy')\n",
    "plt.xlabel('epoch')\n",
    "plt.legend(['train', 'val'], loc='upper left')\n",
    "plt.xticks(np.arange(0, 20, 1))\n",
    "plt.subplot(212)\n",
    "plt.plot(adam_history.history['loss'])\n",
    "plt.plot(adam_history.history['val_loss'])\n",
    "plt.title('NesterovRandomSearch_Model_Loss')\n",
    "plt.ylabel('loss'); plt.xlabel('epoch')\n",
    "plt.legend(['train', 'val'], loc='upper left')\n",
    "plt.subplots_adjust(hspace=0.5)\n",
    "plt.xticks(np.arange(0, 20, 1))\n",
    "# plt.show()\n",
    "images_dir = '/content/drive/MyDrive/pruthvirai/CIFAR_CNN'\n",
    "plt.savefig(f\"{images_dir}/randomsearch_adam.png\")"
   ],
   "metadata": {
    "id": "MldCWlCypvfl",
    "colab": {
     "base_uri": "https://localhost:8080/",
     "height": 472
    },
    "executionInfo": {
     "status": "ok",
     "timestamp": 1682219017215,
     "user_tz": -300,
     "elapsed": 1208,
     "user": {
      "displayName": "Marilyn Fox",
      "userId": "07191779669483983856"
     }
    },
    "outputId": "956c636e-26aa-4592-f186-1af16eb2d311"
   },
   "execution_count": 31,
   "outputs": [
    {
     "output_type": "display_data",
     "data": {
      "text/plain": [
       "<Figure size 640x480 with 2 Axes>"
      ],
      "image/png": "[encoded data removed]"
     },
     "metadata": {}
    }
   ]
  },
  {
   "cell_type": "code",
   "source": [
    "preds = adam_sgd_model.predict(x_train)\n",
    "y_pred = np.argmax(preds, axis=1)\n",
    "y_train1 = np.argmax(y_train, axis=1)\n",
    "print(classification_report(y_train1, y_pred))\n",
    "print(confusion_matrix(y_train1,y_pred))"
   ],
   "metadata": {
    "id": "cfwL6HwTp1HJ",
    "colab": {
     "base_uri": "https://localhost:8080/"
    },
    "executionInfo": {
     "status": "ok",
     "timestamp": 1682218845811,
     "user_tz": -300,
     "elapsed": 636,
     "user": {
      "displayName": "Marilyn Fox",
      "userId": "07191779669483983856"
     }
    },
    "outputId": "ea815b12-56c5-442a-f010-b2d898cd94ee"
   },
   "execution_count": 25,
   "outputs": [
    {
     "output_type": "stream",
     "name": "stdout",
     "text": [
      "157/157 [==============================] - 0s 2ms/step\n",
      "              precision    recall  f1-score   support\n",
      "\n",
      "           0       0.77      0.57      0.65       505\n",
      "           1       0.90      0.56      0.69       460\n",
      "           2       0.61      0.60      0.61       519\n",
      "           3       0.54      0.63      0.58       486\n",
      "           4       0.58      0.58      0.58       519\n",
      "           5       0.66      0.63      0.64       488\n",
      "           6       0.76      0.67      0.71       518\n",
      "           7       0.69      0.76      0.72       486\n",
      "           8       0.71      0.80      0.75       520\n",
      "           9       0.62      0.87      0.72       498\n",
      "\n",
      "    accuracy                           0.67      4999\n",
      "   macro avg       0.68      0.67      0.67      4999\n",
      "weighted avg       0.68      0.67      0.67      4999\n",
      "\n",
      "[[286   2  23  12  16   5   2  23  98  38]\n",
      " [  8 257   2   6   9   4   6  10  23 135]\n",
      " [ 20   0 312  39  56  30  15  23  17   7]\n",
      " [  4   0  30 308  38  40  24  20   5  17]\n",
      " [ 12   1  64  35 302  23  31  33   6  12]\n",
      " [  2   1  17  75  28 308  21  26   6   4]\n",
      " [  3   1  35  43  38  27 346  13   4   8]\n",
      " [  6   1  13  26  30  18   5 368   1  18]\n",
      " [ 27   9   9  14   6   7   1   5 415  27]\n",
      " [  4  12   5  10   1   7   3  14   8 434]]\n"
     ]
    }
   ]
  },
  {
   "cell_type": "code",
   "source": [
    "preds = adam_sgd_model.predict(x_test)\n",
    "y_pred = np.argmax(preds, axis=1)\n",
    "y_test1 = np.argmax(y_test, axis=1)\n",
    "print(classification_report(y_test1, y_pred))\n",
    "print(confusion_matrix(y_test1,y_pred))"
   ],
   "metadata": {
    "id": "tMp_M-MKp1MM",
    "colab": {
     "base_uri": "https://localhost:8080/"
    },
    "executionInfo": {
     "status": "ok",
     "timestamp": 1682218845812,
     "user_tz": -300,
     "elapsed": 16,
     "user": {
      "displayName": "Marilyn Fox",
      "userId": "07191779669483983856"
     }
    },
    "outputId": "90a2c670-1515-4096-8b35-7d866845ceb8"
   },
   "execution_count": 26,
   "outputs": [
    {
     "output_type": "stream",
     "name": "stdout",
     "text": [
      "16/16 [==============================] - 0s 2ms/step\n",
      "              precision    recall  f1-score   support\n",
      "\n",
      "           0       0.59      0.33      0.43        57\n",
      "           1       0.80      0.39      0.52        41\n",
      "           2       0.49      0.41      0.45        51\n",
      "           3       0.31      0.42      0.36        48\n",
      "           4       0.30      0.35      0.33        40\n",
      "           5       0.46      0.33      0.39        48\n",
      "           6       0.65      0.61      0.63        54\n",
      "           7       0.41      0.53      0.46        47\n",
      "           8       0.57      0.61      0.59        57\n",
      "           9       0.55      0.84      0.66        56\n",
      "\n",
      "    accuracy                           0.49       499\n",
      "   macro avg       0.51      0.48      0.48       499\n",
      "weighted avg       0.52      0.49      0.49       499\n",
      "\n",
      "[[19  0  4  2  2  1  1  4 15  9]\n",
      " [ 1 16  1  1  1  0  0  1  5 15]\n",
      " [ 3  0 21  8  7  5  3  2  1  1]\n",
      " [ 0  0  4 20  5  4  6  5  0  4]\n",
      " [ 1  1  6  3 14  2  5  7  0  1]\n",
      " [ 0  0  1 11  6 16  1 11  2  0]\n",
      " [ 0  0  3  9  6  1 33  0  1  1]\n",
      " [ 0  1  1  8  5  3  1 25  1  2]\n",
      " [ 6  2  2  2  0  2  0  2 35  6]\n",
      " [ 2  0  0  0  0  1  1  4  1 47]]\n"
     ]
    }
   ]
  }
 ]
}
